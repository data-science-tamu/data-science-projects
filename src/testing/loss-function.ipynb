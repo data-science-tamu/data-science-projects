{
 "cells": [
  {
   "cell_type": "code",
   "execution_count": 20,
   "metadata": {},
   "outputs": [],
   "source": [
    "import torch\n",
    "import numpy as np"
   ]
  },
  {
   "cell_type": "markdown",
   "metadata": {},
   "source": [
    "## Elastic Constitutive Relation"
   ]
  },
  {
   "cell_type": "markdown",
   "metadata": {
    "vscode": {
     "languageId": "latex"
    }
   },
   "source": [
    "#### Elastic Constitutive Relation Equation\n",
    "Used to calculate the stress vectors.\n",
    "\n",
    "\\begin{equation} \\tag{2}\n",
    "\\sigma = \\left\\{ \\begin{array}{c} \n",
    "    \\sigma_{xx} \\\\\n",
    "    \\sigma_{yy} \\\\\n",
    "    \\tau_{xy}\n",
    "\\end{array} \\right\\}\n",
    "= \\frac{E}{1 - \\nu^2} \\left[ \\begin{array}{ccc}\n",
    "    1 & \\nu & 0 \\\\\n",
    "    \\nu & 1 & 0 \\\\\n",
    "    0 & 0 & \\frac{1 - v}{2}\n",
    "    \\end{array}    \n",
    "\\right] \\left\\{ \\begin{array}{c} \n",
    "    \\epsilon_{xx} \\\\\n",
    "    \\epsilon_{yy} \\\\\n",
    "    \\gamma_{xy}\n",
    "\\end{array} \\right\\}\n",
    "\\end{equation}"
   ]
  },
  {
   "cell_type": "markdown",
   "metadata": {},
   "source": [
    "In the case of the inverse problem. Both $E$ and $\\nu$ are predicted values. As a result, they themselves are tensors making the calculations more difficult.\n",
    "\n",
    "In the example code `elastnet.py`, $\\nu$ was assumed to be a constant 0.5, which made the matrix multiplication simpler. Below are one or more possible solutions, though they may not be the most optimal."
   ]
  },
  {
   "cell_type": "markdown",
   "metadata": {},
   "source": [
    "#### Code provided ($\\nu$ = 0.5)"
   ]
  },
  {
   "cell_type": "code",
   "execution_count": 24,
   "metadata": {},
   "outputs": [
    {
     "data": {
      "text/plain": [
       "tensor([[1.3333, 1.6667, 0.5000],\n",
       "        [2.6667, 3.3333, 1.0000],\n",
       "        [4.0000, 5.0000, 1.5000]], dtype=torch.float64)"
      ]
     },
     "execution_count": 24,
     "metadata": {},
     "output_type": "execute_result"
    }
   ],
   "source": [
    "e_xx = torch.tensor(np.array([1., 1., 1.]))\n",
    "e_yy = torch.tensor(np.array([2., 2., 2.]))\n",
    "r_xy = torch.tensor(np.array([3., 3., 3.]))\n",
    "strain= torch.stack([e_xx, e_yy, r_xy], dim = 1)\n",
    "\n",
    "c_matrix = torch.tensor(\n",
    "    (1/(1-(1/2.0)**2))*np.array([[1, 1/2.0, 0], [1/2.0, 1, 0], [0, 0, (1-1/2.0)/2.0]])\n",
    ")\n",
    "\n",
    "pred_E = torch.tensor([0.5, 1.0, 1.5])\n",
    "modulus = torch.stack([pred_E, pred_E, pred_E], axis = 1)\n",
    "\n",
    "stress = torch.multiply(torch.matmul(strain, c_matrix), modulus)\n",
    "stress"
   ]
  },
  {
   "cell_type": "markdown",
   "metadata": {},
   "source": [
    "#### Calculating each value individually testing"
   ]
  },
  {
   "cell_type": "code",
   "execution_count": 33,
   "metadata": {},
   "outputs": [
    {
     "data": {
      "text/plain": [
       "tensor([[[1.3333, 1.6667, 0.5000],\n",
       "         [2.6667, 3.3333, 1.0000],\n",
       "         [4.0000, 5.0000, 1.5000]],\n",
       "\n",
       "        [[1.3333, 1.6667, 0.5000],\n",
       "         [2.6667, 3.3333, 1.0000],\n",
       "         [4.0000, 5.0000, 1.5000]],\n",
       "\n",
       "        [[1.3333, 1.6667, 0.5000],\n",
       "         [2.6667, 3.3333, 1.0000],\n",
       "         [4.0000, 5.0000, 1.5000]]], dtype=torch.float64)"
      ]
     },
     "execution_count": 33,
     "metadata": {},
     "output_type": "execute_result"
    }
   ],
   "source": [
    "e_xx = torch.tensor(np.array([1., 1., 1.]))\n",
    "e_yy = torch.tensor(np.array([2., 2., 2.]))\n",
    "r_xy = torch.tensor(np.array([3., 3., 3.]))\n",
    "strain= torch.stack([e_xx, e_yy, r_xy], dim = 1)\n",
    "\n",
    "c_matrix = torch.tensor(\n",
    "    (1/(1-(1/2.0)**2))*np.array([[1, 1/2.0, 0], [1/2.0, 1, 0], [0, 0, (1-1/2.0)/2.0]])\n",
    ")\n",
    "\n",
    "pred_E = torch.tensor([0.5, 1.0, 1.5])\n",
    "modulus = torch.stack([pred_E, pred_E, pred_E], axis = 1)\n",
    "\n",
    "stress = torch.multiply(torch.matmul(strain, c_matrix), modulus)\n",
    "\n",
    "v_dat = torch.tensor(np.array([0.5, 0.5, 0.5]))\n",
    "v_stack = torch.stack([v_dat, v_dat, v_dat])\n",
    "\n",
    "c_mat = torch.tensor(np.array([\n",
    "    torch.tensor(np.array([\n",
    "        [1.,  v*1.0,  0.],\n",
    "        [v * 1.0,  1.,  0.],\n",
    "        [0., 0., (1.0-v)/2.0]\n",
    "    ])) for v in v_stack[:,0]\n",
    "]))\n",
    "\n",
    "v2 = torch.multiply(v_stack, v_stack)\n",
    "\n",
    "fraction = torch.divide(modulus, 1 - v2)\n",
    "\n",
    "mat_res = torch.matmul(strain, c_mat)\n",
    "\n",
    "result = torch.multiply(fraction, mat_res)\n",
    "\n",
    "result"
   ]
  },
  {
   "cell_type": "code",
   "execution_count": null,
   "metadata": {},
   "outputs": [],
   "source": []
  }
 ],
 "metadata": {
  "kernelspec": {
   "display_name": "Python 3",
   "language": "python",
   "name": "python3"
  },
  "language_info": {
   "codemirror_mode": {
    "name": "ipython",
    "version": 3
   },
   "file_extension": ".py",
   "mimetype": "text/x-python",
   "name": "python",
   "nbconvert_exporter": "python",
   "pygments_lexer": "ipython3",
   "version": "3.12.4"
  }
 },
 "nbformat": 4,
 "nbformat_minor": 2
}
