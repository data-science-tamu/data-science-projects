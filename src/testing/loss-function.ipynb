{
 "cells": [
  {
   "cell_type": "code",
   "execution_count": 2,
   "metadata": {},
   "outputs": [],
   "source": [
    "import torch\n",
    "import numpy as np"
   ]
  },
  {
   "cell_type": "markdown",
   "metadata": {},
   "source": [
    "## Elastic Constitutive Relation"
   ]
  },
  {
   "cell_type": "markdown",
   "metadata": {
    "vscode": {
     "languageId": "latex"
    }
   },
   "source": [
    "#### Elastic Constitutive Relation Equation\n",
    "Used to calculate the stress vectors.\n",
    "\n",
    "\\begin{equation} \\tag{2}\n",
    "\\sigma = \\left\\{ \\begin{array}{c} \n",
    "    \\sigma_{xx} \\\\\n",
    "    \\sigma_{yy} \\\\\n",
    "    \\tau_{xy}\n",
    "\\end{array} \\right\\}\n",
    "= \\frac{E}{1 - \\nu^2} \\left[ \\begin{array}{ccc}\n",
    "    1 & \\nu & 0 \\\\\n",
    "    \\nu & 1 & 0 \\\\\n",
    "    0 & 0 & \\frac{1 - v}{2}\n",
    "    \\end{array}    \n",
    "\\right] \\left\\{ \\begin{array}{c} \n",
    "    \\epsilon_{xx} \\\\\n",
    "    \\epsilon_{yy} \\\\\n",
    "    \\gamma_{xy}\n",
    "\\end{array} \\right\\}\n",
    "\\end{equation}"
   ]
  },
  {
   "cell_type": "markdown",
   "metadata": {},
   "source": [
    "In the case of the inverse problem. Both $E$ and $\\nu$ are predicted values. As a result, they themselves are tensors making the calculations more difficult.\n",
    "\n",
    "In the example code `elastnet.py`, $\\nu$ was assumed to be a constant 0.5, which made the matrix multiplication simpler. First is a method to quickly set test values.\n",
    "Then is the provided code for a constant $\\nu$ (`strain_c`). Lastly is a code for\n",
    "calculating strain given a predicted $\\nu$ (`strain_v`). \n",
    "\n",
    "The code for `strain_v` is likely not the optimal solution. There could be a\n",
    "function that doesn't rely on list comprehension, or a method using built in\n",
    "functions of torch. This needs to be looked in to. The difficulty is in creating\n",
    "a matrix for each discrete point given the $\\nu$ at that point."
   ]
  },
  {
   "cell_type": "code",
   "execution_count": 33,
   "metadata": {},
   "outputs": [],
   "source": [
    "# Test values\n",
    "e_xx = torch.tensor(np.array([1., 1.7, 1.2,]), dtype=torch.float32)\n",
    "e_yy = torch.tensor(np.array([2., 2.3, 2.1]), dtype=torch.float32)\n",
    "r_xy = torch.tensor(np.array([3., 3.13, 3.2]), dtype=torch.float32)\n",
    "strain= torch.stack([e_xx, e_yy, r_xy], dim = 1)\n",
    "\n",
    "v_dat = torch.tensor(np.array([0.5, 0.5, 0.5]), dtype=torch.float32)\n",
    "v_stack = torch.stack([v_dat, v_dat, v_dat], dim=1)\n",
    "\n",
    "pred_E = torch.tensor([0.5, 1.0, 1.5], dtype=torch.float32)\n",
    "modulus = torch.stack([pred_E, pred_E, pred_E], dim=1)"
   ]
  },
  {
   "cell_type": "markdown",
   "metadata": {},
   "source": [
    "#### Code provided ($\\nu$ = 0.5)"
   ]
  },
  {
   "cell_type": "code",
   "execution_count": 63,
   "metadata": {},
   "outputs": [
    {
     "data": {
      "text/plain": [
       "tensor([[1.3333, 1.6667, 0.5000],\n",
       "        [3.8000, 4.2000, 1.0433],\n",
       "        [4.5000, 5.4000, 1.6000]])"
      ]
     },
     "execution_count": 63,
     "metadata": {},
     "output_type": "execute_result"
    }
   ],
   "source": [
    "c_matrix = torch.tensor(\n",
    "    (1/(1-(1/2.0)**2))*np.array([[1, 1/2.0, 0], [1/2.0, 1, 0], [0, 0, (1-1/2.0)/2.0]])\n",
    ", dtype=torch.float32)\n",
    "\n",
    "stress_c = torch.multiply(torch.matmul(strain, c_matrix), modulus)\n",
    "stress_c"
   ]
  },
  {
   "cell_type": "markdown",
   "metadata": {},
   "source": [
    "#### Calculating each value individually testing"
   ]
  },
  {
   "cell_type": "code",
   "execution_count": 35,
   "metadata": {},
   "outputs": [
    {
     "name": "stdout",
     "output_type": "stream",
     "text": [
      "tensor([[2.0000, 2.5000, 0.7500],\n",
      "        [2.8500, 3.1500, 0.7825],\n",
      "        [2.2500, 2.7000, 0.8000]])\n"
     ]
    },
    {
     "data": {
      "text/plain": [
       "tensor([[1.3333, 1.6667, 0.5000],\n",
       "        [3.8000, 4.2000, 1.0433],\n",
       "        [4.5000, 5.4000, 1.6000]])"
      ]
     },
     "execution_count": 35,
     "metadata": {},
     "output_type": "execute_result"
    }
   ],
   "source": [
    "def c_matrix(v:float):\n",
    "    return torch.tensor(\n",
    "        np.array(\n",
    "            [ [1, v, 0], \n",
    "              [v, 1, 0], \n",
    "              [0, 0, (1-v)/2.0] ]\n",
    "        ), dtype=torch.float32)\n",
    "\n",
    "mat_res = torch.stack([ \n",
    "    torch.matmul(strain[i], c_matrix(v_stack[i, 0])) \n",
    "        for i in range(strain.shape[0]) \n",
    "])\n",
    "\n",
    "# print(strain[0])\n",
    "# print(c_matrix(v_stack[0,0]))\n",
    "print(mat_res)\n",
    "\n",
    "v2 = torch.square(v_stack)\n",
    "fraction = torch.divide(modulus, 1 - v2)\n",
    "stress_v = torch.multiply(mat_res, fraction)\n",
    "stress_v"
   ]
  },
  {
   "cell_type": "markdown",
   "metadata": {},
   "source": [
    "#### Stacking in a direction"
   ]
  },
  {
   "cell_type": "code",
   "execution_count": 62,
   "metadata": {},
   "outputs": [
    {
     "name": "stdout",
     "output_type": "stream",
     "text": [
      "tensor([[2.0000, 2.5000, 0.7500],\n",
      "        [2.8500, 3.1500, 0.7825],\n",
      "        [2.2500, 2.7000, 0.8000]])\n"
     ]
    },
    {
     "data": {
      "text/plain": [
       "tensor([[2.6667, 3.3333, 1.0000],\n",
       "        [3.8000, 4.2000, 1.0433],\n",
       "        [3.0000, 3.6000, 1.0667]])"
      ]
     },
     "execution_count": 62,
     "metadata": {},
     "output_type": "execute_result"
    }
   ],
   "source": [
    "c_stack = torch.stack([\n",
    "    torch.ones(v_dat.shape, dtype=torch.float32),\n",
    "    v_dat,\n",
    "    torch.zeros(v_dat.shape, dtype=torch.float32), ##\n",
    "    v_dat,\n",
    "    torch.ones(v_dat.shape, dtype=torch.float32),\n",
    "    torch.zeros(v_dat.shape, dtype=torch.float32), ##\n",
    "    torch.zeros(v_dat.shape, dtype=torch.float32),\n",
    "    torch.zeros(v_dat.shape, dtype=torch.float32),\n",
    "    torch.divide(\n",
    "        (torch.ones(v_dat.shape) - v_dat),\n",
    "        torch.full(v_dat.shape, 2.0, dtype=torch.float32)\n",
    "    ) ##\n",
    "], dim=1).reshape([-1, 3,3])\n",
    "# print(c_stack)\n",
    "\n",
    "mat_res = torch.stack([ \n",
    "    torch.matmul(strain[i], c_stack[i]) \n",
    "        for i in range(strain.shape[0]) \n",
    "])\n",
    "\n",
    "strain2 = strain.reshape(-1,1,3)\n",
    "mat_res2 = torch.bmm(strain2, c_stack).squeeze()\n",
    "print(mat_res2)\n",
    "\"\"\"\n",
    "GOAL:\n",
    "tensor([[2.0000, 2.5000, 0.7500],\n",
    "        [2.8500, 3.1500, 0.7825],\n",
    "        [2.2500, 2.7000, 0.8000]])\n",
    "\"\"\"\n",
    "\n",
    "v2 = torch.square(v_stack)\n",
    "fraction = torch.divide(1, 1 - v2) #modulus\n",
    "stress_v = torch.multiply(mat_res2, fraction)\n",
    "\"\"\"\n",
    "GOAL:\n",
    "tensor([[1.3333, 1.6667, 0.5000],\n",
    "        [3.8000, 4.2000, 1.0433],\n",
    "        [4.5000, 5.4000, 1.6000]])\n",
    "\"\"\"\n",
    "stress_v"
   ]
  },
  {
   "cell_type": "code",
   "execution_count": 53,
   "metadata": {},
   "outputs": [
    {
     "ename": "IndexError",
     "evalue": "too many indices for tensor of dimension 2",
     "output_type": "error",
     "traceback": [
      "\u001b[1;31m---------------------------------------------------------------------------\u001b[0m",
      "\u001b[1;31mIndexError\u001b[0m                                Traceback (most recent call last)",
      "Cell \u001b[1;32mIn[53], line 4\u001b[0m\n\u001b[0;32m      1\u001b[0m \u001b[38;5;66;03m# Displays the difference in the values\u001b[39;00m\n\u001b[0;32m      2\u001b[0m \u001b[38;5;66;03m# If there is any, it was of magnitude e-16 for float around 1.0\u001b[39;00m\n\u001b[0;32m      3\u001b[0m \u001b[38;5;66;03m# Display Just the differences\u001b[39;00m\n\u001b[1;32m----> 4\u001b[0m stress_v[(stress_v \u001b[38;5;241m!=\u001b[39m stress_c)] \u001b[38;5;241m-\u001b[39m \u001b[43mstress_c\u001b[49m\u001b[43m[\u001b[49m\u001b[43m(\u001b[49m\u001b[43mstress_v\u001b[49m\u001b[43m \u001b[49m\u001b[38;5;241;43m!=\u001b[39;49m\u001b[43m \u001b[49m\u001b[43mstress_c\u001b[49m\u001b[43m)\u001b[49m\u001b[43m]\u001b[49m\n\u001b[0;32m      5\u001b[0m \u001b[38;5;66;03m# Display all the differences (including 0)\u001b[39;00m\n\u001b[0;32m      6\u001b[0m torch\u001b[38;5;241m.\u001b[39mabs(stress_c \u001b[38;5;241m-\u001b[39m stress_v) \u001b[38;5;66;03m# > 1e-15 # To filter out low values\u001b[39;00m\n",
      "\u001b[1;31mIndexError\u001b[0m: too many indices for tensor of dimension 2"
     ]
    }
   ],
   "source": [
    "# Displays the difference in the values\n",
    "# If there is any, it was of magnitude e-16 for float around 1.0\n",
    "# Display Just the differences\n",
    "stress_v[(stress_v != stress_c)] - stress_c[(stress_v != stress_c)]\n",
    "# Display all the differences (including 0)\n",
    "torch.abs(stress_c - stress_v) # > 1e-15 # To filter out low values"
   ]
  },
  {
   "cell_type": "markdown",
   "metadata": {},
   "source": [
    "## Equilibrium Condition"
   ]
  },
  {
   "cell_type": "markdown",
   "metadata": {},
   "source": [
    "#### Sum of the sub stresses\n",
    "Using a sliding 3x3 kernel"
   ]
  },
  {
   "cell_type": "code",
   "execution_count": 32,
   "metadata": {},
   "outputs": [],
   "source": [
    "def conv2d(x, W):\n",
    "    return torch.conv2d(x, W, strides = [1, 1, 1, 1], padding = 'VALID')\n",
    "\n",
    "sum_kernel = np.array(\n",
    "    [[[[1.0]], [[1.0]], [[1.0]]], \n",
    "     [[[1.0]], [[1.0]], [[1.0]]],\n",
    "     [[[1.0]], [[1.0]], [[1.0]]], ]   \n",
    ")\n",
    "\n",
    "# Reshaped into 256 by 256 matrix\n",
    "# Then shaped into 4d (-1, 256, 256, -1) for conv2d\n",
    "# pred_E\n",
    "\n",
    "conv2d(pred_E_4d, sum_kernel)"
   ]
  },
  {
   "cell_type": "code",
   "execution_count": 33,
   "metadata": {},
   "outputs": [],
   "source": [
    "# Transform Stress to 4d (-1, 256, 256, -1)\n",
    "stress_xx = stress[:, 0]\n",
    "stress_yy = stress[:, 1]\n",
    "stress_xy = stress[:, 2]"
   ]
  },
  {
   "cell_type": "code",
   "execution_count": null,
   "metadata": {},
   "outputs": [],
   "source": [
    "# Convolutions from paper - calculate derivatives of strain\n",
    "wx_conv_xx = np.array(\n",
    "    [[[[-1.0]], [[-1.0]], [[-1.0]]], \n",
    "     [[[0.0]], [[0.0]], [[0.0]]],\n",
    "    [[[1.0]], [[1.0]], [[1.0]]], ])\n",
    "wx_conv_xy = np.array(\n",
    "    [[[[1.0]], [[0.0]], [[-1.0]]], \n",
    "     [[[1.0]], [[0.0]], [[-1.0]]],\n",
    "    [[[1.0]], [[0.0]], [[-1.0]]], ])\n",
    "wy_conv_yy = np.array(\n",
    "    [[[[1.0]], [[0.0]], [[-1.0]]], \n",
    "     [[[1.0]], [[0.0]], [[-1.0]]],\n",
    "    [[[1.0]], [[0.0]], [[-1.0]]], ])\n",
    "wy_conv_xy = np.array(\n",
    "    [[[[-1.0]], [[-1.0]], [[-1.0]]], \n",
    "     [[[0.0]], [[0.0]], [[0.0]]],\n",
    "    [[[1.0]], [[1.0]], [[1.0]]], ])\n",
    "\n",
    "# Make tensors\n",
    "wx_conv_xx = torch.tensor(wx_conv_xx, dtype = torch.float32)\n",
    "wx_conv_xy = torch.tensor(wx_conv_xy, dtype = torch.float32)\n",
    "wy_conv_yy = torch.tensor(wy_conv_yy, dtype = torch.float32)\n",
    "wy_conv_xy = torch.tensor(wy_conv_xy, dtype = torch.float32)"
   ]
  },
  {
   "cell_type": "code",
   "execution_count": null,
   "metadata": {},
   "outputs": [],
   "source": [
    "\n",
    "# From equilibrium condition\n",
    "fx_conv_xx = conv2d(stress_xx_matrix_4d, wx_conv_xx)\n",
    "fx_conv_xy = conv2d(stress_xy_matrix_4d, wx_conv_xy)\n",
    "fx_conv_sum = fx_conv_xx + fx_conv_xy # Result that should be 0\n",
    "\n",
    "fy_conv_yy = conv2d(stress_yy_matrix_4d, wy_conv_yy)\n",
    "fy_conv_xy = conv2d(stress_xy_matrix_4d, wy_conv_xy)\n",
    "fy_conv_sum = fy_conv_yy + fy_conv_xy # Result that should be 0\n",
    "\n",
    "# Normalization, maybe h or t in e(i,j) equation\n",
    "fx_conv_sum_norm = torch.divide(fx_conv_sum, pred_E_conv)\n",
    "fy_conv_sum_norm = torch.divide(fy_conv_sum, pred_E_m_conv)"
   ]
  },
  {
   "cell_type": "markdown",
   "metadata": {},
   "source": [
    "## Actually Calculating Loss"
   ]
  },
  {
   "cell_type": "code",
   "execution_count": null,
   "metadata": {},
   "outputs": [],
   "source": [
    "# The potentially arbitrary constant\n",
    "E_data = 1 # From data file\n",
    "mean_modulus = torch.mean(E_data)"
   ]
  },
  {
   "cell_type": "code",
   "execution_count": null,
   "metadata": {},
   "outputs": [],
   "source": [
    "# Equilibrium loss. PDE loss.\n",
    "loss_x = torch.mean(torch.abs(fx_conv_sum_norm))\n",
    "loss_y = torch.mean(torch.abs(fy_conv_sum_norm))"
   ]
  },
  {
   "cell_type": "code",
   "execution_count": null,
   "metadata": {},
   "outputs": [],
   "source": [
    "# loss_m (modulus)\n",
    "# L_e (13)\n",
    "# \"In practice mean value could be arbitrary > 0\"\n",
    "# To avoid minimizing E to 0, therefore use E_bar\n",
    "# king of cheating in a way, could try and find a way to fix this\n",
    "# Could apply boundary condition / include boundary condition\n",
    "loss_m = torch.abs(torch.mean(pred_E) - mean_modulus)"
   ]
  },
  {
   "cell_type": "code",
   "execution_count": null,
   "metadata": {},
   "outputs": [],
   "source": [
    "# DISPLACEMENT NOT POISSON, not used in inverse problem\n",
    "# L_d (15)\n",
    "#loss_v = torch.abs(torch.mean(y_pred_v))"
   ]
  },
  {
   "cell_type": "code",
   "execution_count": null,
   "metadata": {},
   "outputs": [],
   "source": [
    "# Loss\n",
    "# (12), loss_x + loss_y is loss_r\n",
    "loss = loss_x + loss_y + loss_m/100"
   ]
  },
  {
   "cell_type": "markdown",
   "metadata": {},
   "source": [
    "## Error (for reporting only)"
   ]
  },
  {
   "cell_type": "code",
   "execution_count": null,
   "metadata": {},
   "outputs": [],
   "source": [
    "err_E = torch.sum(torch.abs(E_data - pred_E))\n",
    "err_v = torch.sum(torch.abs(v_data - pred_v))"
   ]
  },
  {
   "cell_type": "markdown",
   "metadata": {},
   "source": [
    "## Training\n",
    "Uses an AdamOptimizer"
   ]
  },
  {
   "cell_type": "code",
   "execution_count": null,
   "metadata": {},
   "outputs": [],
   "source": [
    "optimizer = torch.optim.Adam(model.parameters(), lr=learn_rate)"
   ]
  }
 ],
 "metadata": {
  "kernelspec": {
   "display_name": "Python 3",
   "language": "python",
   "name": "python3"
  },
  "language_info": {
   "codemirror_mode": {
    "name": "ipython",
    "version": 3
   },
   "file_extension": ".py",
   "mimetype": "text/x-python",
   "name": "python",
   "nbconvert_exporter": "python",
   "pygments_lexer": "ipython3",
   "version": "3.12.4"
  }
 },
 "nbformat": 4,
 "nbformat_minor": 2
}
